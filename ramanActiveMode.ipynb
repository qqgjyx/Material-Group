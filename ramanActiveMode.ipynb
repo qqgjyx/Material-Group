{
 "cells": [
  {
   "cell_type": "code",
   "execution_count": null,
   "id": "initial_id",
   "metadata": {
    "collapsed": true
   },
   "outputs": [],
   "source": []
  },
  {
   "cell_type": "code",
   "outputs": [],
   "source": [
    "import matplotlib.pyplot as plt"
   ],
   "metadata": {
    "collapsed": false,
    "ExecuteTime": {
     "end_time": "2024-02-17T12:28:28.515258Z",
     "start_time": "2024-02-17T12:28:28.073890Z"
    }
   },
   "id": "a5d455d7fc2115d",
   "execution_count": 2
  },
  {
   "cell_type": "code",
   "outputs": [],
   "source": [
    "# Original format data provided by the user\n",
    "data = \"\"\"\n",
    "     freq (  1 -  1) =        -55.5  [cm-1]   --> A_2u L_2'       I  \n",
    "     freq (  2 -  2) =        -51.1  [cm-1]   --> A_1g L_1        R  \n",
    "     freq (  3 -  4) =        -18.4  [cm-1]   --> E_u  L_3'       I  \n",
    "     freq (  5 -  5) =         -7.8  [cm-1]   --> A_2u L_2'       I  \n",
    "     freq (  6 -  7) =         30.2  [cm-1]   --> E_u  L_3'       I  \n",
    "     freq (  8 -  9) =         34.4  [cm-1]   --> E_g  L_3        R  \n",
    "     freq ( 10 - 11) =         58.4  [cm-1]   --> E_g  L_3        R  \n",
    "     freq ( 12 - 13) =         60.2  [cm-1]   --> E_u  L_3'       I  \n",
    "     freq ( 14 - 14) =         67.8  [cm-1]   --> A_2u L_2'       I  \n",
    "     freq ( 15 - 15) =         69.1  [cm-1]   --> A_1g L_1        R  \n",
    "     freq ( 16 - 16) =         75.0  [cm-1]   --> A_1g L_1        R  \n",
    "     freq ( 17 - 18) =         75.7  [cm-1]   --> E_g  L_3        R  \n",
    "     freq ( 19 - 20) =         77.0  [cm-1]   --> E_u  L_3'       I  \n",
    "     freq ( 21 - 22) =         80.2  [cm-1]   --> E_g  L_3        R  \n",
    "     freq ( 23 - 23) =         82.5  [cm-1]   --> A_2u L_2'       I  \n",
    "     freq ( 24 - 24) =         83.2  [cm-1]   --> A_1g L_1        R  \n",
    "     freq ( 25 - 26) =        106.2  [cm-1]   --> E_u  L_3'       I  \n",
    "     freq ( 27 - 27) =        111.2  [cm-1]   --> A_2u L_2'       I  \n",
    "     freq ( 28 - 29) =        114.7  [cm-1]   --> E_g  L_3        R  \n",
    "     freq ( 30 - 31) =        117.0  [cm-1]   --> E_u  L_3'       I  \n",
    "     freq ( 32 - 33) =        120.4  [cm-1]   --> E_g  L_3        R  \n",
    "     freq ( 34 - 34) =        136.7  [cm-1]   --> A_2u L_2'       I  \n",
    "     freq ( 35 - 35) =        137.0  [cm-1]   --> A_1g L_1        R  \n",
    "     freq ( 36 - 37) =        138.6  [cm-1]   --> E_g  L_3        R  \n",
    "     freq ( 38 - 39) =        140.7  [cm-1]   --> E_u  L_3'       I  \n",
    "     freq ( 40 - 41) =        159.5  [cm-1]   --> E_u  L_3'       I  \n",
    "     freq ( 42 - 42) =        188.6  [cm-1]   --> A_2g L_2           \n",
    "     freq ( 43 - 43) =        192.8  [cm-1]   --> A_2g L_2           \n",
    "     freq ( 44 - 44) =        194.0  [cm-1]   --> A_1u L_1'          \n",
    "     freq ( 45 - 45) =        198.9  [cm-1]   --> A_2g L_2           \n",
    "     freq ( 46 - 46) =        199.4  [cm-1]   --> A_1u L_1'          \n",
    "     freq ( 47 - 47) =        201.0  [cm-1]   --> A_1u L_1'          \n",
    "     freq ( 48 - 49) =        201.8  [cm-1]   --> E_g  L_3        R  \n",
    "     freq ( 50 - 50) =        203.2  [cm-1]   --> A_2u L_2'       I  \n",
    "     freq ( 51 - 52) =        205.3  [cm-1]   --> E_u  L_3'       I  \n",
    "     freq ( 53 - 53) =        206.4  [cm-1]   --> A_1g L_1        R  \n",
    "     freq ( 54 - 55) =        217.5  [cm-1]   --> E_g  L_3        R  \n",
    "     freq ( 56 - 56) =        234.8  [cm-1]   --> A_1g L_1        R  \n",
    "     freq ( 57 - 57) =        235.5  [cm-1]   --> A_2u L_2'       I  \n",
    "     freq ( 58 - 59) =        243.8  [cm-1]   --> E_u  L_3'       I  \n",
    "     freq ( 60 - 61) =        245.1  [cm-1]   --> E_g  L_3        R  \n",
    "     freq ( 62 - 63) =        256.5  [cm-1]   --> E_u  L_3'       I  \n",
    "     freq ( 64 - 64) =        268.4  [cm-1]   --> A_2u L_2'       I  \n",
    "     freq ( 65 - 65) =        269.5  [cm-1]   --> A_1g L_1        R  \n",
    "     freq ( 66 - 66) =        285.7  [cm-1]   --> A_2u L_2'       I  \n",
    "     freq ( 67 - 67) =        452.0  [cm-1]   --> A_1g L_1        R  \n",
    "     freq ( 68 - 68) =        452.3  [cm-1]   --> A_2u L_2'       I  \n",
    "     freq ( 69 - 70) =        526.9  [cm-1]   --> E_g  L_3        R  \n",
    "     freq ( 71 - 72) =        529.8  [cm-1]   --> E_g  L_3        R  \n",
    "     freq ( 73 - 73) =        532.9  [cm-1]   --> A_1g L_1        R  \n",
    "     freq ( 74 - 75) =        533.7  [cm-1]   --> E_u  L_3'       I  \n",
    "     freq ( 76 - 77) =        537.2  [cm-1]   --> E_g  L_3        R  \n",
    "     freq ( 78 - 79) =        539.5  [cm-1]   --> E_u  L_3'       I  \n",
    "     freq ( 80 - 81) =        544.5  [cm-1]   --> E_u  L_3'       I  \n",
    "     freq ( 82 - 82) =        861.2  [cm-1]   --> A_2u L_2'       I  \n",
    "     freq ( 83 - 83) =        861.5  [cm-1]   --> A_2u L_2'       I  \n",
    "     freq ( 84 - 84) =        862.1  [cm-1]   --> A_1g L_1        R  \n",
    "     freq ( 85 - 85) =        867.1  [cm-1]   --> A_1g L_1        R  \n",
    "     freq ( 86 - 86) =        868.3  [cm-1]   --> A_2u L_2'       I  \n",
    "     freq ( 87 - 87) =        872.1  [cm-1]   --> A_1g L_1        R  \n",
    "     freq ( 88 - 89) =       1135.5  [cm-1]   --> E_g  L_3        R  \n",
    "     freq ( 90 - 91) =       1137.0  [cm-1]   --> E_g  L_\n",
    "\"\"\""
   ],
   "metadata": {
    "collapsed": false,
    "ExecuteTime": {
     "end_time": "2024-02-17T12:28:27.459577Z",
     "start_time": "2024-02-17T12:28:27.445608Z"
    }
   },
   "id": "4fd58fb668e1e04f",
   "execution_count": 1
  },
  {
   "cell_type": "code",
   "outputs": [],
   "source": [
    "# Split the data into lines for processing\n",
    "lines = data.strip().split(\"\\n\")\n",
    "\n",
    "# Initialize lists to hold the frequencies for A1g and Eg modes\n",
    "a1g_freqs = []\n",
    "eg_freqs = []\n",
    "\n",
    "# Process each line to extract frequencies and symmetries\n",
    "for line in lines:\n",
    "    parts = line.split()\n",
    "    frequency = float(parts[6])  # Extract the frequency\n",
    "    mode_symmetry = parts[9]     # Extract the mode symmetry (e.g., A_1g, E_g)\n",
    "    activity = parts[-1]         # Extract the activity label (R for Raman-active, I for Infrared-active)\n",
    "\n",
    "    if activity == \"R\":\n",
    "        if mode_symmetry == \"A_1g\":\n",
    "            a1g_freqs.append(frequency)\n",
    "        elif mode_symmetry == \"E_g\":\n",
    "            eg_freqs.append(frequency)\n",
    "\n"
   ],
   "metadata": {
    "collapsed": false,
    "ExecuteTime": {
     "end_time": "2024-02-17T12:28:36.511022Z",
     "start_time": "2024-02-17T12:28:36.506308Z"
    }
   },
   "id": "2212522e8ea2f8a8",
   "execution_count": 4
  },
  {
   "cell_type": "code",
   "outputs": [
    {
     "name": "stdout",
     "output_type": "stream",
     "text": [
      "eg_freqs: \n",
      "[34.4, 58.4, 75.7, 80.2, 114.7, 120.4, 138.6, 201.8, 217.5, 245.1, 526.9, 529.8, 537.2, 1135.5]\n",
      "a1g_freqs: \n",
      "[-51.1, 69.1, 75.0, 83.2, 137.0, 206.4, 234.8, 269.5, 452.0, 532.9, 862.1, 867.1, 872.1]\n"
     ]
    }
   ],
   "source": [
    "print('eg_freqs: ')\n",
    "print(eg_freqs)\n",
    "print('a1g_freqs: ')\n",
    "print(a1g_freqs)"
   ],
   "metadata": {
    "collapsed": false,
    "ExecuteTime": {
     "end_time": "2024-02-17T12:28:38.663501Z",
     "start_time": "2024-02-17T12:28:38.658140Z"
    }
   },
   "id": "59337e5366782035",
   "execution_count": 5
  },
  {
   "cell_type": "code",
   "outputs": [
    {
     "data": {
      "text/plain": "<Figure size 1000x600 with 1 Axes>",
      "image/png": "[encoded data removed]"
     },
     "metadata": {},
     "output_type": "display_data"
    }
   ],
   "source": [
    "# Plotting the Raman-active frequencies\n",
    "plt.figure(figsize=(10, 6))\n",
    "plt.stem(a1g_freqs, [1]*len(a1g_freqs), linefmt='C0-', markerfmt='C0o', basefmt=\" \", label='A1g Modes')\n",
    "plt.stem(eg_freqs, [1]*len(eg_freqs), linefmt='C1-', markerfmt='C1o', basefmt=\" \", label='Eg Modes')\n",
    "\n",
    "plt.title('Visualization of Raman-active Phonon Modes')\n",
    "plt.xlabel('Frequency (cm$^{-1}$)')\n",
    "plt.ylabel('Intensity (Arbitrary Units)')\n",
    "plt.legend()\n",
    "plt.grid(True)\n",
    "plt.xlim(0, max(eg_freqs + a1g_freqs) + 100)  # Adjust x-axis to show only positive frequencies\n",
    "\n",
    "plt.savefig('ramanActiveMode.png', dpi=300, transparent=False, bbox_inches='tight')\n",
    "plt.show()"
   ],
   "metadata": {
    "collapsed": false,
    "ExecuteTime": {
     "end_time": "2024-02-17T12:28:41.240897Z",
     "start_time": "2024-02-17T12:28:40.802274Z"
    }
   },
   "id": "6fbb3b81a0bdd4a0",
   "execution_count": 6
  },
  {
   "cell_type": "code",
   "outputs": [
    {
     "data": {
      "text/plain": "<Figure size 640x480 with 0 Axes>"
     },
     "metadata": {},
     "output_type": "display_data"
    }
   ],
   "source": [],
   "metadata": {
    "collapsed": false,
    "ExecuteTime": {
     "end_time": "2024-02-13T21:18:02.917754Z",
     "start_time": "2024-02-13T21:18:02.797200Z"
    }
   },
   "id": "dda613550f2b543f",
   "execution_count": 14
  },
  {
   "cell_type": "code",
   "outputs": [],
   "source": [],
   "metadata": {
    "collapsed": false
   },
   "id": "d3dc075ae0816dbd"
  }
 ],
 "metadata": {
  "kernelspec": {
   "display_name": "Python 3",
   "language": "python",
   "name": "python3"
  },
  "language_info": {
   "codemirror_mode": {
    "name": "ipython",
    "version": 2
   },
   "file_extension": ".py",
   "mimetype": "text/x-python",
   "name": "python",
   "nbconvert_exporter": "python",
   "pygments_lexer": "ipython2",
   "version": "2.7.6"
  }
 },
 "nbformat": 4,
 "nbformat_minor": 5
}

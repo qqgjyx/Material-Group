{
 "cells": [
  {
   "cell_type": "code",
   "outputs": [],
   "source": [],
   "metadata": {
    "collapsed": false
   },
   "id": "initial_id",
   "execution_count": 0
  },
  {
   "cell_type": "code",
   "outputs": [],
   "source": [
    "import matplotlib.pyplot as plt"
   ],
   "metadata": {
    "collapsed": false,
    "ExecuteTime": {
     "end_time": "2024-02-22T04:32:59.886979Z",
     "start_time": "2024-02-22T04:32:58.857917Z"
    }
   },
   "id": "a5d455d7fc2115d",
   "execution_count": 1
  },
  {
   "cell_type": "code",
   "outputs": [],
   "source": [
    "# Original format data provided by the user\n",
    "data = \"\"\"\n",
    "     freq (  1 -  2) =        -84.1  [cm-1]   --> E_u  L_3'       I  \n",
    "     freq (  3 -  4) =        -77.5  [cm-1]   --> E_g  L_3        R  \n",
    "     freq (  5 -  5) =        -42.3  [cm-1]   --> A_2u L_2'       I  \n",
    "     freq (  6 -  7) =         42.2  [cm-1]   --> E_u  L_3'       I  \n",
    "     freq (  8 -  9) =         56.3  [cm-1]   --> E_u  L_3'       I  \n",
    "     freq ( 10 - 10) =         57.5  [cm-1]   --> A_1g L_1        R  \n",
    "     freq ( 11 - 11) =         57.5  [cm-1]   --> A_2u L_2'       I  \n",
    "     freq ( 12 - 13) =         59.6  [cm-1]   --> E_g  L_3        R  \n",
    "     freq ( 14 - 15) =         82.4  [cm-1]   --> E_u  L_3'       I  \n",
    "     freq ( 16 - 17) =         84.0  [cm-1]   --> E_g  L_3        R  \n",
    "     freq ( 18 - 18) =         86.6  [cm-1]   --> A_2u L_2'       I  \n",
    "     freq ( 19 - 19) =         87.1  [cm-1]   --> A_1g L_1        R  \n",
    "     freq ( 20 - 20) =         93.3  [cm-1]   --> A_1g L_1        R  \n",
    "     freq ( 21 - 22) =         95.6  [cm-1]   --> E_g  L_3        R  \n",
    "     freq ( 23 - 23) =        111.6  [cm-1]   --> A_2u L_2'       I  \n",
    "     freq ( 24 - 25) =        116.7  [cm-1]   --> E_u  L_3'       I  \n",
    "     freq ( 26 - 26) =        120.8  [cm-1]   --> A_1g L_1        R  \n",
    "     freq ( 27 - 27) =        126.9  [cm-1]   --> A_2u L_2'       I  \n",
    "     freq ( 28 - 29) =        132.1  [cm-1]   --> E_g  L_3        R  \n",
    "     freq ( 30 - 31) =        134.8  [cm-1]   --> E_u  L_3'       I  \n",
    "     freq ( 32 - 33) =        138.6  [cm-1]   --> E_g  L_3        R  \n",
    "     freq ( 34 - 35) =        144.8  [cm-1]   --> E_g  L_3        R  \n",
    "     freq ( 36 - 37) =        150.3  [cm-1]   --> E_u  L_3'       I  \n",
    "     freq ( 38 - 38) =        155.9  [cm-1]   --> A_1g L_1        R  \n",
    "     freq ( 39 - 40) =        162.7  [cm-1]   --> E_u  L_3'       I  \n",
    "     freq ( 41 - 41) =        171.5  [cm-1]   --> A_2u L_2'       I  \n",
    "     freq ( 42 - 42) =        177.2  [cm-1]   --> A_2g L_2           \n",
    "     freq ( 43 - 43) =        177.7  [cm-1]   --> A_1u L_1'          \n",
    "     freq ( 44 - 44) =        191.0  [cm-1]   --> A_2u L_2'       I  \n",
    "     freq ( 45 - 45) =        228.0  [cm-1]   --> A_2g L_2           \n",
    "     freq ( 46 - 46) =        230.1  [cm-1]   --> A_1g L_1        R  \n",
    "     freq ( 47 - 48) =        236.9  [cm-1]   --> E_g  L_3        R  \n",
    "     freq ( 49 - 49) =        238.3  [cm-1]   --> A_2g L_2           \n",
    "     freq ( 50 - 51) =        238.6  [cm-1]   --> E_u  L_3'       I  \n",
    "     freq ( 52 - 52) =        239.0  [cm-1]   --> A_1u L_1'          \n",
    "     freq ( 53 - 53) =        242.6  [cm-1]   --> A_2u L_2'       I  \n",
    "     freq ( 54 - 54) =        242.9  [cm-1]   --> A_1u L_1'          \n",
    "     freq ( 55 - 56) =        246.1  [cm-1]   --> E_g  L_3        R  \n",
    "     freq ( 57 - 58) =        259.8  [cm-1]   --> E_u  L_3'       I  \n",
    "     freq ( 59 - 59) =        264.5  [cm-1]   --> A_1g L_1        R  \n",
    "     freq ( 60 - 61) =        269.3  [cm-1]   --> E_u  L_3'       I  \n",
    "     freq ( 62 - 63) =        283.5  [cm-1]   --> E_g  L_3        R  \n",
    "     freq ( 64 - 64) =        475.1  [cm-1]   --> A_1g L_1        R  \n",
    "     freq ( 65 - 66) =        499.2  [cm-1]   --> E_u  L_3'       I  \n",
    "     freq ( 67 - 67) =        500.2  [cm-1]   --> A_2u L_2'       I  \n",
    "     freq ( 68 - 69) =        504.1  [cm-1]   --> E_g  L_3        R  \n",
    "     freq ( 70 - 71) =        553.0  [cm-1]   --> E_g  L_3        R  \n",
    "     freq ( 72 - 73) =        557.9  [cm-1]   --> E_u  L_3'       I  \n",
    "     freq ( 74 - 75) =        559.9  [cm-1]   --> E_g  L_3        R  \n",
    "     freq ( 76 - 77) =        560.2  [cm-1]   --> E_u  L_3'       I  \n",
    "     freq ( 78 - 78) =        618.5  [cm-1]   --> A_2u L_2'       I  \n",
    "     freq ( 79 - 79) =        653.0  [cm-1]   --> A_1g L_1        R  \n",
    "     freq ( 80 - 80) =        657.2  [cm-1]   --> A_2u L_2'       I  \n",
    "     freq ( 81 - 81) =        691.5  [cm-1]   --> A_1g L_1        R  \n",
    "     freq ( 82 - 82) =        758.5  [cm-1]   --> A_1g L_1        R  \n",
    "     freq ( 83 - 83) =        758.7  [cm-1]   --> A_2u L_2'       I  \n",
    "     freq ( 84 - 84) =        888.8  [cm-1]   --> A_2u L_2'       I  \n",
    "     freq ( 85 - 85) =        897.9  [cm-1]   --> A_1g L_1        R  \n",
    "     freq ( 86 - 86) =        899.4  [cm-1]   --> A_2u L_2'       I  \n",
    "     freq ( 87 - 87) =        906.7  [cm-1]   --> A_1g L_1        R  \n",
    "     freq ( 88 - 89) =        985.5  [cm-1]   --> E_g  L_3        R  \n",
    "     freq ( 90 - 91) =        985.9  [cm-1]   --> E_u  L_3'       I  \n",
    "     freq ( 92 - 93) =       1171.8  [cm-1]   --> E_u  L_3'       I  \n",
    "     freq ( 94 - 95) =       1179.1  [cm-1]   --> E_g  L_3        R  \n",
    "     freq ( 96 - 97) =       1181.7  [cm-1]   --> E_g  L_3        R  \n",
    "     freq ( 98 - 99) =       1194.0  [cm-1]   --> E_u  L_3'       I\n",
    "\"\"\""
   ],
   "metadata": {
    "collapsed": false,
    "ExecuteTime": {
     "end_time": "2024-02-22T04:42:51.179180Z",
     "start_time": "2024-02-22T04:42:51.170312Z"
    }
   },
   "id": "4fd58fb668e1e04f",
   "execution_count": 9
  },
  {
   "cell_type": "code",
   "outputs": [],
   "source": [
    "# Split the data into lines for processing\n",
    "lines = data.strip().split(\"\\n\")\n",
    "\n",
    "# Initialize lists to hold the frequencies for A1g and Eg modes\n",
    "a1g_freqs = []\n",
    "eg_freqs = []\n",
    "\n",
    "# Process each line to extract frequencies and symmetries\n",
    "for line in lines:\n",
    "    parts = line.split()\n",
    "    frequency = float(parts[6])  # Extract the frequency\n",
    "    mode_symmetry = parts[9]     # Extract the mode symmetry (e.g., A_1g, E_g)\n",
    "    activity = parts[-1]         # Extract the activity label (R for Raman-active, I for Infrared-active)\n",
    "\n",
    "    if activity == \"R\":\n",
    "        if mode_symmetry == \"A_1g\":\n",
    "            a1g_freqs.append(frequency)\n",
    "        elif mode_symmetry == \"E_g\":\n",
    "            eg_freqs.append(frequency)\n",
    "\n"
   ],
   "metadata": {
    "collapsed": false,
    "ExecuteTime": {
     "end_time": "2024-02-22T04:42:51.623867Z",
     "start_time": "2024-02-22T04:42:51.621627Z"
    }
   },
   "id": "2212522e8ea2f8a8",
   "execution_count": 10
  },
  {
   "cell_type": "code",
   "outputs": [
    {
     "name": "stdout",
     "output_type": "stream",
     "text": [
      "eg_freqs: \n",
      "[-77.5, 59.6, 84.0, 95.6, 132.1, 138.6, 144.8, 236.9, 246.1, 283.5, 504.1, 553.0, 559.9, 985.5, 1179.1, 1181.7]\n",
      "a1g_freqs: \n",
      "[57.5, 87.1, 93.3, 120.8, 155.9, 230.1, 264.5, 475.1, 653.0, 691.5, 758.5, 897.9, 906.7]\n"
     ]
    }
   ],
   "source": [
    "print('eg_freqs: ')\n",
    "print(eg_freqs)\n",
    "print('a1g_freqs: ')\n",
    "print(a1g_freqs)"
   ],
   "metadata": {
    "collapsed": false,
    "ExecuteTime": {
     "end_time": "2024-02-22T04:42:52.195756Z",
     "start_time": "2024-02-22T04:42:52.193105Z"
    }
   },
   "id": "59337e5366782035",
   "execution_count": 11
  },
  {
   "cell_type": "code",
   "outputs": [
    {
     "data": {
      "text/plain": "<Figure size 1000x600 with 1 Axes>",
      "image/png": "[encoded data removed]"
     },
     "metadata": {},
     "output_type": "display_data"
    }
   ],
   "source": [
    "# Plotting the Raman-active frequencies\n",
    "plt.figure(figsize=(10, 6))\n",
    "plt.stem(a1g_freqs, [1]*len(a1g_freqs), linefmt='C0-', markerfmt='C0o', basefmt=\" \", label='A1g Modes')\n",
    "plt.stem(eg_freqs, [1]*len(eg_freqs), linefmt='C1-', markerfmt='C1o', basefmt=\" \", label='Eg Modes')\n",
    "\n",
    "plt.title('Visualization of Raman-active Phonon Modes')\n",
    "plt.xlabel('Frequency (cm$^{-1}$)')\n",
    "plt.ylabel('Intensity (Arbitrary Units)')\n",
    "plt.legend()\n",
    "plt.grid(True)\n",
    "plt.xlim(0, max(eg_freqs + a1g_freqs) + 100)  # Adjust x-axis to show only positive frequencies\n",
    "\n",
    "plt.savefig('ramanActiveMode.png', dpi=300, transparent=False, bbox_inches='tight')\n",
    "plt.show()"
   ],
   "metadata": {
    "collapsed": false,
    "ExecuteTime": {
     "end_time": "2024-02-22T04:42:53.001233Z",
     "start_time": "2024-02-22T04:42:52.660406Z"
    }
   },
   "id": "6fbb3b81a0bdd4a0",
   "execution_count": 12
  },
  {
   "cell_type": "code",
   "outputs": [
    {
     "data": {
      "text/plain": "<Figure size 640x480 with 0 Axes>"
     },
     "metadata": {},
     "output_type": "display_data"
    }
   ],
   "source": [],
   "metadata": {
    "collapsed": false,
    "ExecuteTime": {
     "end_time": "2024-02-13T21:18:02.917754Z",
     "start_time": "2024-02-13T21:18:02.797200Z"
    }
   },
   "id": "dda613550f2b543f",
   "execution_count": 14
  },
  {
   "cell_type": "code",
   "outputs": [],
   "source": [],
   "metadata": {
    "collapsed": false
   },
   "id": "d3dc075ae0816dbd"
  }
 ],
 "metadata": {
  "kernelspec": {
   "display_name": "Python 3",
   "language": "python",
   "name": "python3"
  },
  "language_info": {
   "codemirror_mode": {
    "name": "ipython",
    "version": 2
   },
   "file_extension": ".py",
   "mimetype": "text/x-python",
   "name": "python",
   "nbconvert_exporter": "python",
   "pygments_lexer": "ipython2",
   "version": "2.7.6"
  }
 },
 "nbformat": 4,
 "nbformat_minor": 5
}

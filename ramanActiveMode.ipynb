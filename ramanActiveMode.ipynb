{
 "cells": [
  {
   "cell_type": "code",
   "outputs": [],
   "source": [],
   "metadata": {
    "collapsed": false,
    "ExecuteTime": {
     "end_time": "2024-04-05T02:48:32.294981Z",
     "start_time": "2024-04-05T02:48:32.292618Z"
    }
   },
   "id": "initial_id",
   "execution_count": 34
  },
  {
   "cell_type": "code",
   "outputs": [],
   "source": [
    "import matplotlib.pyplot as plt\n",
    "import numpy as np"
   ],
   "metadata": {
    "collapsed": false,
    "ExecuteTime": {
     "end_time": "2024-04-05T02:48:32.304938Z",
     "start_time": "2024-04-05T02:48:32.302491Z"
    }
   },
   "id": "a5d455d7fc2115d",
   "execution_count": 35
  },
  {
   "cell_type": "code",
   "outputs": [],
   "source": [
    "# Original format data provided by the user\n",
    "data = \"\"\"\n",
    "     freq (  1 -  1) =        -56.9  [cm-1]   --> A               I+R\n",
    "     freq (  2 -  2) =        -27.2  [cm-1]   --> A               I+R\n",
    "     freq (  3 -  3) =        -25.9  [cm-1]   --> E               I+R\n",
    "     freq (  4 -  4) =        -25.9  [cm-1]   --> E*              I+R\n",
    "     freq (  5 -  5) =         -5.6  [cm-1]   --> A               I+R\n",
    "     freq (  6 -  6) =         27.8  [cm-1]   --> E               I+R\n",
    "     freq (  7 -  7) =         27.8  [cm-1]   --> E*              I+R\n",
    "     freq (  8 -  8) =         38.9  [cm-1]   --> E               I+R\n",
    "     freq (  9 -  9) =         38.9  [cm-1]   --> E*              I+R\n",
    "     freq ( 10 - 10) =         47.6  [cm-1]   --> A               I+R\n",
    "     freq ( 11 - 11) =         47.9  [cm-1]   --> E               I+R\n",
    "     freq ( 12 - 12) =         47.9  [cm-1]   --> E*              I+R\n",
    "     freq ( 13 - 13) =         50.4  [cm-1]   --> A               I+R\n",
    "     freq ( 14 - 14) =         50.4  [cm-1]   --> E               I+R\n",
    "     freq ( 15 - 15) =         50.4  [cm-1]   --> E*              I+R\n",
    "     freq ( 16 - 16) =         56.6  [cm-1]   --> A               I+R\n",
    "     freq ( 17 - 17) =         57.3  [cm-1]   --> E               I+R\n",
    "     freq ( 18 - 18) =         57.3  [cm-1]   --> E*              I+R\n",
    "     freq ( 19 - 19) =         60.0  [cm-1]   --> A               I+R\n",
    "     freq ( 20 - 20) =         62.9  [cm-1]   --> E               I+R\n",
    "     freq ( 21 - 21) =         62.9  [cm-1]   --> E*              I+R\n",
    "     freq ( 22 - 22) =         67.6  [cm-1]   --> E               I+R\n",
    "     freq ( 23 - 23) =         67.6  [cm-1]   --> E*              I+R\n",
    "     freq ( 24 - 24) =         68.8  [cm-1]   --> A               I+R\n",
    "     freq ( 25 - 25) =         76.4  [cm-1]   --> A               I+R\n",
    "     freq ( 26 - 26) =         76.6  [cm-1]   --> E               I+R\n",
    "     freq ( 27 - 27) =         76.6  [cm-1]   --> E*              I+R\n",
    "     freq ( 28 - 28) =         83.3  [cm-1]   --> E               I+R\n",
    "     freq ( 29 - 29) =         83.3  [cm-1]   --> E*              I+R\n",
    "     freq ( 30 - 30) =         85.9  [cm-1]   --> A               I+R\n",
    "     freq ( 31 - 31) =         97.8  [cm-1]   --> E               I+R\n",
    "     freq ( 32 - 32) =         97.8  [cm-1]   --> E*              I+R\n",
    "     freq ( 33 - 33) =        106.4  [cm-1]   --> A               I+R\n",
    "     freq ( 34 - 34) =        109.7  [cm-1]   --> E               I+R\n",
    "     freq ( 35 - 35) =        109.7  [cm-1]   --> E*              I+R\n",
    "     freq ( 36 - 36) =        115.4  [cm-1]   --> A               I+R\n",
    "     freq ( 37 - 37) =        119.3  [cm-1]   --> A               I+R\n",
    "     freq ( 38 - 38) =        121.7  [cm-1]   --> E               I+R\n",
    "     freq ( 39 - 39) =        121.7  [cm-1]   --> E*              I+R\n",
    "     freq ( 40 - 40) =        132.0  [cm-1]   --> A               I+R\n",
    "     freq ( 41 - 41) =        134.9  [cm-1]   --> E               I+R\n",
    "     freq ( 42 - 42) =        134.9  [cm-1]   --> E*              I+R\n",
    "     freq ( 43 - 43) =        135.6  [cm-1]   --> A               I+R\n",
    "     freq ( 44 - 44) =        145.1  [cm-1]   --> E               I+R\n",
    "     freq ( 45 - 45) =        145.1  [cm-1]   --> E*              I+R\n",
    "     freq ( 46 - 46) =        148.9  [cm-1]   --> A               I+R\n",
    "     freq ( 47 - 47) =        162.1  [cm-1]   --> E               I+R\n",
    "     freq ( 48 - 48) =        162.1  [cm-1]   --> E*              I+R\n",
    "     freq ( 49 - 49) =        163.3  [cm-1]   --> A               I+R\n",
    "     freq ( 50 - 50) =        168.6  [cm-1]   --> E               I+R\n",
    "     freq ( 51 - 51) =        168.6  [cm-1]   --> E*              I+R\n",
    "     freq ( 52 - 52) =        172.0  [cm-1]   --> A               I+R\n",
    "     freq ( 53 - 53) =        173.9  [cm-1]   --> E               I+R\n",
    "     freq ( 54 - 54) =        173.9  [cm-1]   --> E*              I+R\n",
    "     freq ( 55 - 55) =        182.4  [cm-1]   --> A               I+R\n",
    "     freq ( 56 - 56) =        189.1  [cm-1]   --> E               I+R\n",
    "     freq ( 57 - 57) =        189.1  [cm-1]   --> E*              I+R\n",
    "     freq ( 58 - 58) =        194.8  [cm-1]   --> A               I+R\n",
    "     freq ( 59 - 59) =        206.4  [cm-1]   --> A               I+R\n",
    "     freq ( 60 - 60) =        211.4  [cm-1]   --> E               I+R\n",
    "     freq ( 61 - 61) =        211.4  [cm-1]   --> E*              I+R\n",
    "     freq ( 62 - 62) =        240.9  [cm-1]   --> E               I+R\n",
    "     freq ( 63 - 63) =        240.9  [cm-1]   --> E*              I+R\n",
    "     freq ( 64 - 64) =        244.0  [cm-1]   --> A               I+R\n",
    "     freq ( 65 - 65) =        251.3  [cm-1]   --> E               I+R\n",
    "     freq ( 66 - 66) =        251.3  [cm-1]   --> E*              I+R\n",
    "     freq ( 67 - 67) =        253.0  [cm-1]   --> A               I+R\n",
    "     freq ( 68 - 68) =        319.9  [cm-1]   --> E               I+R\n",
    "     freq ( 69 - 69) =        319.9  [cm-1]   --> E*              I+R\n",
    "     freq ( 70 - 70) =        371.6  [cm-1]   --> A               I+R\n",
    "     freq ( 71 - 71) =        376.8  [cm-1]   --> E               I+R\n",
    "     freq ( 72 - 72) =        376.8  [cm-1]   --> E*              I+R\n",
    "     freq ( 73 - 73) =        386.1  [cm-1]   --> E               I+R\n",
    "     freq ( 74 - 74) =        386.1  [cm-1]   --> E*              I+R\n",
    "     freq ( 75 - 75) =        404.1  [cm-1]   --> A               I+R\n",
    "     freq ( 76 - 76) =        418.0  [cm-1]   --> A               I+R\n",
    "     freq ( 77 - 77) =        430.2  [cm-1]   --> E               I+R\n",
    "     freq ( 78 - 78) =        430.2  [cm-1]   --> E*              I+R\n",
    "     freq ( 79 - 79) =        433.0  [cm-1]   --> E               I+R\n",
    "     freq ( 80 - 80) =        433.0  [cm-1]   --> E*              I+R\n",
    "     freq ( 81 - 81) =        441.1  [cm-1]   --> A               I+R\n",
    "     freq ( 82 - 82) =        515.5  [cm-1]   --> E               I+R\n",
    "     freq ( 83 - 83) =        515.5  [cm-1]   --> E*              I+R\n",
    "     freq ( 84 - 84) =        518.7  [cm-1]   --> A               I+R\n",
    "     freq ( 85 - 85) =        522.3  [cm-1]   --> A               I+R\n",
    "     freq ( 86 - 86) =        523.6  [cm-1]   --> E               I+R\n",
    "     freq ( 87 - 87) =        523.6  [cm-1]   --> E*              I+R\n",
    "     freq ( 88 - 88) =        537.3  [cm-1]   --> E               I+R\n",
    "     freq ( 89 - 89) =        537.3  [cm-1]   --> E*              I+R\n",
    "     freq ( 90 - 90) =        540.7  [cm-1]   --> A               I+R\n",
    "     freq ( 91 - 91) =        541.7  [cm-1]   --> E               I+R\n",
    "     freq ( 92 - 92) =        541.7  [cm-1]   --> E*              I+R\n",
    "     freq ( 93 - 93) =        546.2  [cm-1]   --> A               I+R\n",
    "     freq ( 94 - 94) =        552.9  [cm-1]   --> A               I+R\n",
    "     freq ( 95 - 95) =        555.0  [cm-1]   --> E               I+R\n",
    "     freq ( 96 - 96) =        555.0  [cm-1]   --> E*              I+R\n",
    "     freq ( 97 - 97) =        558.4  [cm-1]   --> A               I+R\n",
    "     freq ( 98 - 98) =        560.9  [cm-1]   --> E               I+R\n",
    "     freq ( 99 - 99) =        560.9  [cm-1]   --> E*              I+R\n",
    "     freq (100 -100) =        891.1  [cm-1]   --> A               I+R\n",
    "     freq (101 -101) =        895.2  [cm-1]   --> E               I+R\n",
    "     freq (102 -102) =        895.2  [cm-1]   --> E*              I+R\n",
    "     freq (103 -103) =        906.2  [cm-1]   --> E               I+R\n",
    "     freq (104 -104) =        906.2  [cm-1]   --> E*              I+R\n",
    "     freq (105 -105) =        910.7  [cm-1]   --> A               I+R\n",
    "     freq (106 -106) =        912.1  [cm-1]   --> E               I+R\n",
    "     freq (107 -107) =        912.1  [cm-1]   --> E*              I+R\n",
    "     freq (108 -108) =        927.3  [cm-1]   --> A               I+R\n",
    "     freq (109 -109) =        930.7  [cm-1]   --> E               I+R\n",
    "     freq (110 -110) =        930.7  [cm-1]   --> E*              I+R\n",
    "     freq (111 -111) =        945.5  [cm-1]   --> A               I+R\n",
    "     freq (112 -112) =        949.6  [cm-1]   --> E               I+R\n",
    "     freq (113 -113) =        949.6  [cm-1]   --> E*              I+R\n",
    "     freq (114 -114) =        956.4  [cm-1]   --> E               I+R\n",
    "     freq (115 -115) =        956.4  [cm-1]   --> E*              I+R\n",
    "     freq (116 -116) =        958.5  [cm-1]   --> A               I+R\n",
    "     freq (117 -117) =        973.4  [cm-1]   --> A               I+R\n",
    "     freq (118 -118) =        975.5  [cm-1]   --> E               I+R\n",
    "     freq (119 -119) =        975.5  [cm-1]   --> E*              I+R\n",
    "     freq (120 -120) =        994.5  [cm-1]   --> A               I+R\n",
    "     freq (121 -121) =       1002.3  [cm-1]   --> E               I+R\n",
    "     freq (122 -122) =       1002.3  [cm-1]   --> E*              I+R\n",
    "     freq (123 -123) =       1034.2  [cm-1]   --> A               I+R\n",
    "\"\"\""
   ],
   "metadata": {
    "collapsed": false,
    "ExecuteTime": {
     "end_time": "2024-04-05T02:48:32.310195Z",
     "start_time": "2024-04-05T02:48:32.306245Z"
    }
   },
   "id": "4fd58fb668e1e04f",
   "execution_count": 36
  },
  {
   "cell_type": "code",
   "outputs": [],
   "source": [
    "# Split the data into lines for processing\n",
    "lines = data.strip().split(\"\\n\")\n",
    "\n",
    "# Initialize lists to hold the frequencies for A1g and Eg modes\n",
    "a1g_freqs = []\n",
    "eg_freqs = []\n",
    "a_freqs = []\n",
    "e_freqs = []\n",
    "es_freqs = []\n",
    "\n",
    "# Process each line to extract frequencies and symmetries\n",
    "for line in lines:\n",
    "    parts = line.split()\n",
    "    frequency = float(parts[-5])  # Extract the frequency\n",
    "    mode_symmetry = parts[-2]     # Extract the mode symmetry (e.g., A_1g, E_g)\n",
    "    activity = parts[-1]         # Extract the activity label (R for Raman-active, I for Infrared-active)\n",
    "\n",
    "    if activity == \"R\":\n",
    "        if mode_symmetry == \"A_1g\":\n",
    "            a1g_freqs.append(frequency)\n",
    "        elif mode_symmetry == \"E_g\":\n",
    "            eg_freqs.append(frequency)\n",
    "            \n",
    "    elif activity == \"I+R\":\n",
    "        if mode_symmetry == \"A\":\n",
    "            a_freqs.append(frequency)\n",
    "        elif mode_symmetry == \"E\":\n",
    "            e_freqs.append(frequency)\n",
    "        elif mode_symmetry == \"E*\":\n",
    "            es_freqs.append(frequency)\n",
    "\n"
   ],
   "metadata": {
    "collapsed": false,
    "ExecuteTime": {
     "end_time": "2024-04-05T02:48:32.314157Z",
     "start_time": "2024-04-05T02:48:32.311117Z"
    }
   },
   "id": "2212522e8ea2f8a8",
   "execution_count": 37
  },
  {
   "cell_type": "code",
   "outputs": [
    {
     "name": "stdout",
     "output_type": "stream",
     "text": [
      "eg_freqs: \n",
      "[]\n",
      "a1g_freqs: \n",
      "[]\n",
      "e_freqs: \n",
      "[-25.9, 27.8, 38.9, 47.9, 50.4, 57.3, 62.9, 67.6, 76.6, 83.3, 97.8, 109.7, 121.7, 134.9, 145.1, 162.1, 168.6, 173.9, 189.1, 211.4, 240.9, 251.3, 319.9, 376.8, 386.1, 430.2, 433.0, 515.5, 523.6, 537.3, 541.7, 555.0, 560.9, 895.2, 906.2, 912.1, 930.7, 949.6, 956.4, 975.5, 1002.3]\n",
      "a_freqs: \n",
      "[-56.9, -27.2, -5.6, 47.6, 50.4, 56.6, 60.0, 68.8, 76.4, 85.9, 106.4, 115.4, 119.3, 132.0, 135.6, 148.9, 163.3, 172.0, 182.4, 194.8, 206.4, 244.0, 253.0, 371.6, 404.1, 418.0, 441.1, 518.7, 522.3, 540.7, 546.2, 552.9, 558.4, 891.1, 910.7, 927.3, 945.5, 958.5, 973.4, 994.5, 1034.2]\n",
      "es_freqs: \n",
      "[-25.9, 27.8, 38.9, 47.9, 50.4, 57.3, 62.9, 67.6, 76.6, 83.3, 97.8, 109.7, 121.7, 134.9, 145.1, 162.1, 168.6, 173.9, 189.1, 211.4, 240.9, 251.3, 319.9, 376.8, 386.1, 430.2, 433.0, 515.5, 523.6, 537.3, 541.7, 555.0, 560.9, 895.2, 906.2, 912.1, 930.7, 949.6, 956.4, 975.5, 1002.3]\n"
     ]
    }
   ],
   "source": [
    "print('eg_freqs: ')\n",
    "print(eg_freqs)\n",
    "print('a1g_freqs: ')\n",
    "print(a1g_freqs)\n",
    "print('e_freqs: ')\n",
    "print(e_freqs)\n",
    "print('a_freqs: ')\n",
    "print(a_freqs)\n",
    "print('es_freqs: ')\n",
    "print(es_freqs)"
   ],
   "metadata": {
    "collapsed": false,
    "ExecuteTime": {
     "end_time": "2024-04-05T02:48:32.317482Z",
     "start_time": "2024-04-05T02:48:32.315407Z"
    }
   },
   "id": "59337e5366782035",
   "execution_count": 38
  },
  {
   "cell_type": "code",
   "outputs": [
    {
     "data": {
      "text/plain": "<Figure size 2000x400 with 1 Axes>",
      "image/png": "[encoded data removed]"
     },
     "metadata": {},
     "output_type": "display_data"
    }
   ],
   "source": [
    "# Common y-value for all frequencies\n",
    "y_value = 100\n",
    "\n",
    "plt.figure(figsize=(20, 4))\n",
    "\n",
    "# Scatter plot for each set of frequencies\n",
    "plt.scatter(e_freqs, [y_value] * len(e_freqs), label='E Frequencies', alpha=0.6, marker='s')\n",
    "plt.scatter(a_freqs, [y_value] * len(a_freqs), label='A Frequencies', alpha=0.6, marker='o')\n",
    "plt.scatter(es_freqs, [y_value] * len(es_freqs), label='Es Frequencies', alpha=0.6, marker='^')\n",
    "\n",
    "plt.xlabel('Frequency (cm$^{-1}$)')\n",
    "plt.yticks([])  # Hide y-axis ticks as they're irrelevant in this context\n",
    "plt.title('Visualization of Frequencies Along the X-axis')\n",
    "plt.legend()\n",
    "plt.grid(True, axis='x')\n",
    "\n",
    "plt.show()"
   ],
   "metadata": {
    "collapsed": false,
    "ExecuteTime": {
     "end_time": "2024-04-05T02:50:19.826827Z",
     "start_time": "2024-04-05T02:50:19.662062Z"
    }
   },
   "id": "6fbb3b81a0bdd4a0",
   "execution_count": 40
  },
  {
   "cell_type": "code",
   "outputs": [],
   "source": [],
   "metadata": {
    "collapsed": false,
    "ExecuteTime": {
     "end_time": "2024-04-05T02:48:32.474498Z",
     "start_time": "2024-04-05T02:48:32.473288Z"
    }
   },
   "id": "dda613550f2b543f",
   "execution_count": 39
  },
  {
   "cell_type": "code",
   "outputs": [],
   "source": [],
   "metadata": {
    "collapsed": false,
    "ExecuteTime": {
     "end_time": "2024-04-05T02:48:32.476816Z",
     "start_time": "2024-04-05T02:48:32.475627Z"
    }
   },
   "id": "d3dc075ae0816dbd",
   "execution_count": 39
  }
 ],
 "metadata": {
  "kernelspec": {
   "display_name": "Python 3",
   "language": "python",
   "name": "python3"
  },
  "language_info": {
   "codemirror_mode": {
    "name": "ipython",
    "version": 2
   },
   "file_extension": ".py",
   "mimetype": "text/x-python",
   "name": "python",
   "nbconvert_exporter": "python",
   "pygments_lexer": "ipython2",
   "version": "2.7.6"
  }
 },
 "nbformat": 4,
 "nbformat_minor": 5
}

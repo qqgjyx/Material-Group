{
 "cells": [
  {
   "cell_type": "code",
   "id": "30220e1468d205ed",
   "metadata": {
    "collapsed": true,
    "ExecuteTime": {
     "end_time": "2024-04-19T02:55:18.390003Z",
     "start_time": "2024-04-19T02:55:18.387076Z"
    }
   },
   "source": [
    "import pandas as pd\n",
    "import os\n",
    "import re"
   ],
   "outputs": [],
   "execution_count": 13
  },
  {
   "metadata": {
    "ExecuteTime": {
     "end_time": "2024-04-19T02:55:18.839645Z",
     "start_time": "2024-04-19T02:55:18.836514Z"
    }
   },
   "cell_type": "code",
   "source": [
    "def extract_temperature(filename):\n",
    "    \"\"\"\n",
    "    Extract the numerical part of the temperature from the filename.\n",
    "    Example: 'polishedYellow_30-3000cm-1_100%_532exc_15s_6K_point2' -> 6\n",
    "    \"\"\"\n",
    "    match = re.search(r'(\\d+)K', filename)\n",
    "    return int(match.group(1)) if match else None\n",
    "\n",
    "def extract_degree(filename):\n",
    "    match = re.search(r'(\\d+)_degree_polarizer', filename)\n",
    "    return int(match.group(1)) if match else None\n",
    "\n",
    "def determine_test_type(filename):\n",
    "    if 'cm-1' in filename.lower() and '30-2200cm-1' in filename:\n",
    "        return 'raman'\n",
    "    elif 'nm' in filename.lower() and '550-630nm' in filename:\n",
    "        return 'pl'\n",
    "    else:\n",
    "        return 'unknown'\n"
   ],
   "id": "868816bef4500703",
   "outputs": [],
   "execution_count": 14
  },
  {
   "metadata": {
    "ExecuteTime": {
     "end_time": "2024-04-19T02:54:56.785132Z",
     "start_time": "2024-04-19T02:54:56.773999Z"
    }
   },
   "cell_type": "code",
   "source": [
    "\n",
    "# Your specified file path\n",
    "directory = r'C:\\Users\\Q9gJYx\\OneDrive - Duke University\\Desktop\\NaYb_polo_2m'\n",
    "\n",
    "data_raman = {}\n",
    "data_pl = {}\n",
    "\n",
    "for filename in os.listdir(directory):\n",
    "    if filename.endswith('.txt'):\n",
    "        test_type = determine_test_type(filename)\n",
    "        if test_type == 'unknown':\n",
    "            continue\n",
    "\n",
    "        temperature = extract_temperature(filename)\n",
    "        file_path = os.path.join(directory, filename)\n",
    "\n",
    "        data = pd.read_csv(file_path, sep='\\t', header=None, names=['X', 'Y'])\n",
    "        data.set_index('X', inplace=True)\n",
    "\n",
    "        if test_type == 'raman':\n",
    "            if temperature not in data_raman:\n",
    "                data_raman[temperature] = []\n",
    "            data_raman[temperature].append(data['Y'])\n",
    "        elif test_type == 'pl':\n",
    "            if temperature not in data_pl:\n",
    "                data_pl[temperature] = []\n",
    "            data_pl[temperature].append(data['Y'])\n",
    "\n",
    "# Combine and average data with the same temperature\n",
    "combined_data_raman = pd.DataFrame()\n",
    "combined_data_pl = pd.DataFrame()\n",
    "\n",
    "for temp, y_values in data_raman.items():\n",
    "    combined_data_raman[temp] = pd.concat(y_values, axis=1).mean(axis=1)\n",
    "\n",
    "for temp, y_values in data_pl.items():\n",
    "    combined_data_pl[temp] = pd.concat(y_values, axis=1).mean(axis=1)\n",
    "\n",
    "# Convert all column names to strings and then check if they are digits\n",
    "combined_data_raman.columns = [int(str(col)) if str(col).isdigit() else col for col in combined_data_raman.columns]\n",
    "combined_data_pl.columns = [int(str(col)) if str(col).isdigit() else col for col in combined_data_pl.columns]\n",
    "\n",
    "# Sort the DataFrames by column names (which are now temperatures)\n",
    "combined_data_raman = combined_data_raman.reindex(sorted(combined_data_raman.columns), axis=1)\n",
    "combined_data_pl = combined_data_pl.reindex(sorted(combined_data_pl.columns), axis=1)\n",
    "\n",
    "print(\"Sorted Raman Test Data:\")\n",
    "print(combined_data_raman)\n",
    "print(\"\\nSorted PL Test Data:\")\n",
    "print(combined_data_pl)\n",
    "\n",
    "# After processing and printing the data\n",
    "# Specify the Excel file name\n",
    "excel_file_name = 'test_data_output1.xlsx'\n",
    "\n",
    "# Create a Pandas Excel writer using openpyxl as the engine\n",
    "with pd.ExcelWriter(excel_file_name, engine='openpyxl') as writer:\n",
    "    # Write each DataFrame to a different worksheet\n",
    "    combined_data_raman.to_excel(writer, sheet_name='Raman Test Data')\n",
    "    combined_data_pl.to_excel(writer, sheet_name='PL Test Data')\n",
    "\n",
    "print(f\"Data exported to {excel_file_name}\")"
   ],
   "id": "initial_id",
   "outputs": [
    {
     "name": "stdout",
     "output_type": "stream",
     "text": [
      "Sorted Raman Test Data:\n",
      "Empty DataFrame\n",
      "Columns: []\n",
      "Index: []\n",
      "\n",
      "Sorted PL Test Data:\n",
      "Empty DataFrame\n",
      "Columns: []\n",
      "Index: []\n",
      "Data exported to test_data_output1.xlsx\n"
     ]
    }
   ],
   "execution_count": 11
  },
  {
   "metadata": {
    "ExecuteTime": {
     "end_time": "2024-04-19T02:55:24.043924Z",
     "start_time": "2024-04-19T02:55:23.187906Z"
    }
   },
   "cell_type": "code",
   "source": [
    "\n",
    "# Your specified file path\n",
    "directory = r'C:\\Users\\Q9gJYx\\OneDrive - Duke University\\Desktop\\NaYb_polo_2m'\n",
    "\n",
    "data_raman = {}\n",
    "data_pl = {}\n",
    "\n",
    "for filename in os.listdir(directory):\n",
    "    if filename.endswith('.txt'):\n",
    "        \n",
    "        degree = extract_degree(filename)\n",
    "        file_path = os.path.join(directory, filename)\n",
    "\n",
    "        data = pd.read_csv(file_path, sep='\\t', header=None, names=['X', 'Y'])\n",
    "        data.set_index('X', inplace=True)\n",
    "        \n",
    "        if degree not in data_raman:\n",
    "            data_raman[degree] = []\n",
    "        data_raman[degree].append(data['Y'])\n",
    "\n",
    "# Combine and average data with the same temperature\n",
    "combined_data_raman = pd.DataFrame()\n",
    "\n",
    "for degree, y_values in data_raman.items():\n",
    "    combined_data_raman[degree] = pd.concat(y_values, axis=1).mean(axis=1)\n",
    "\n",
    "# Convert all column names to strings and then check if they are digits\n",
    "combined_data_raman.columns = [int(str(col)) if str(col).isdigit() else col for col in combined_data_raman.columns]\n",
    "\n",
    "# Sort the DataFrames by column names (which are now temperatures)\n",
    "combined_data_raman = combined_data_raman.reindex(sorted(combined_data_raman.columns), axis=1)\n",
    "\n",
    "print(\"Sorted Raman Test Data:\")\n",
    "print(combined_data_raman)\n",
    "\n",
    "# After processing and printing the data\n",
    "# Specify the Excel file name\n",
    "excel_file_name = 'test_data_output1.xlsx'\n",
    "\n",
    "# Create a Pandas Excel writer using openpyxl as the engine\n",
    "with pd.ExcelWriter(excel_file_name, engine='openpyxl') as writer:\n",
    "    # Write each DataFrame to a different worksheet\n",
    "    combined_data_raman.to_excel(writer, sheet_name='Raman Test Data')\n",
    "\n",
    "print(f\"Data exported to {excel_file_name}\")"
   ],
   "id": "ac7965dce5010d92",
   "outputs": [
    {
     "name": "stdout",
     "output_type": "stream",
     "text": [
      "Sorted Raman Test Data:\n",
      "            NaN     0.0     20.0    40.0    60.0    80.0    100.0   120.0  \\\n",
      "X                                                                           \n",
      "30.1612     660.0   686.0   666.0   610.0  1230.0   778.0   818.0  1022.0   \n",
      "30.6877     860.0   920.0   868.0   788.0  1566.0  1010.0  1058.0  1364.0   \n",
      "31.2163    1146.0  1184.0  1112.0  1028.0  2050.0  1370.0  1396.0  1938.0   \n",
      "31.7428    1488.0  1554.0  1472.0  1376.0  2716.0  1824.0  1872.0  2452.0   \n",
      "32.2692    1970.0  2024.0  1898.0  1736.0  3460.0  2378.0  2524.0  3176.0   \n",
      "...           ...     ...     ...     ...     ...     ...     ...     ...   \n",
      "1998.3600    86.0    70.0    58.0    62.0    68.0    72.0    70.0    60.0   \n",
      "1998.7600    80.0    64.0    64.0    56.0    72.0    64.0    56.0    66.0   \n",
      "1999.1600    76.0    78.0    52.0    62.0    74.0    62.0    62.0    62.0   \n",
      "1999.5600    76.0    64.0    60.0    62.0    76.0    68.0    60.0    72.0   \n",
      "1999.9600    78.0    68.0    64.0    60.0    62.0    76.0    70.0    62.0   \n",
      "\n",
      "            140.0   160.0   180.0   200.0   220.0   240.0   260.0   280.0  \\\n",
      "X                                                                           \n",
      "30.1612     986.0  1762.0  1718.0  1864.0  1548.0  1128.0   650.0   590.0   \n",
      "30.6877    1310.0  2198.0  2248.0  2184.0  1808.0  1264.0   918.0   762.0   \n",
      "31.2163    1952.0  3750.0  3812.0  3746.0  3064.0  2168.0  1370.0  1168.0   \n",
      "31.7428    2556.0  5920.0  5258.0  6522.0  4606.0  3874.0  1826.0  1746.0   \n",
      "32.2692    3004.0  5502.0  5080.0  5760.0  4968.0  3724.0  2240.0  2092.0   \n",
      "...           ...     ...     ...     ...     ...     ...     ...     ...   \n",
      "1998.3600    46.0    38.0    40.0    44.0    48.0    46.0    52.0    50.0   \n",
      "1998.7600    52.0    54.0    44.0    48.0    46.0    42.0    48.0    46.0   \n",
      "1999.1600    50.0    44.0    40.0    32.0    46.0    44.0    54.0    48.0   \n",
      "1999.5600    46.0    40.0    42.0    42.0    40.0    46.0    46.0    52.0   \n",
      "1999.9600    52.0    44.0    44.0    46.0    46.0    48.0    44.0    42.0   \n",
      "\n",
      "            300.0   320.0   340.0   360.0  \n",
      "X                                          \n",
      "30.1612     750.0  1216.0  1672.0  1774.0  \n",
      "30.6877     954.0  1434.0  1806.0  2098.0  \n",
      "31.2163    1472.0  2334.0  2934.0  3570.0  \n",
      "31.7428    2268.0  4028.0  5410.0  5628.0  \n",
      "32.2692    2678.0  4080.0  5288.0  5400.0  \n",
      "...           ...     ...     ...     ...  \n",
      "1998.3600    44.0    50.0    46.0    40.0  \n",
      "1998.7600    44.0    52.0    52.0    42.0  \n",
      "1999.1600    44.0    44.0    48.0    36.0  \n",
      "1999.5600    46.0    48.0    50.0    44.0  \n",
      "1999.9600    42.0    50.0    40.0    38.0  \n",
      "\n",
      "[4302 rows x 20 columns]\n",
      "Data exported to test_data_output1.xlsx\n"
     ]
    }
   ],
   "execution_count": 15
  },
  {
   "metadata": {
    "ExecuteTime": {
     "end_time": "2024-04-19T02:55:27.111670Z",
     "start_time": "2024-04-19T02:55:25.871591Z"
    }
   },
   "cell_type": "code",
   "source": [
    "# Replace 'your_file.xlsx' with the path to your Excel file\n",
    "input_file = r'test_data_output1.xlsx'\n",
    "output_file = 'transposed_file.xlsx'\n",
    "\n",
    "# Read the Excel file\n",
    "df = pd.read_excel(input_file)\n",
    "\n",
    "# Transpose the DataFrame\n",
    "transposed_df = df.T\n",
    "\n",
    "# Write the transposed DataFrame to a new Excel file\n",
    "# Note: You need to reset the index if you want to keep the row labels as the first column in the output file.\n",
    "transposed_df.reset_index().to_excel(output_file, index=False)"
   ],
   "id": "45ebb425d7608679",
   "outputs": [],
   "execution_count": 16
  },
  {
   "metadata": {
    "ExecuteTime": {
     "end_time": "2024-04-19T02:55:28.936477Z",
     "start_time": "2024-04-19T02:55:28.226085Z"
    }
   },
   "cell_type": "code",
   "source": [
    "# Replace 'your_file.xlsx' with the path to your Excel file\n",
    "input_file = r'transposed_file.xlsx'\n",
    "output_file = 'processed_file.xlsx'\n",
    "\n",
    "# Read the Excel file\n",
    "df = pd.read_excel(input_file)\n",
    "\n",
    "# Copy the first row (background)\n",
    "background_row = df.iloc[0]\n",
    "\n",
    "# Subtract the background row from all rows, including itself\n",
    "# If you want to keep the background row unchanged, use df.iloc[1:] in the loop instead\n",
    "for index, row in df.iterrows():\n",
    "    df.iloc[index] = row - background_row\n",
    "\n",
    "# If you don't want the first row to be the subtracted background row itself, you can start from the second row like this:\n",
    "# df = df.iloc[1:].subtract(background_row, axis='columns')\n",
    "\n",
    "# Write the processed DataFrame to a new Excel file\n",
    "df.to_excel(output_file, index=False)\n"
   ],
   "id": "a8e9484bee44438e",
   "outputs": [
    {
     "ename": "TypeError",
     "evalue": "unsupported operand type(s) for -: 'str' and 'str'",
     "output_type": "error",
     "traceback": [
      "\u001B[1;31m---------------------------------------------------------------------------\u001B[0m",
      "\u001B[1;31mTypeError\u001B[0m                                 Traceback (most recent call last)",
      "File \u001B[1;32mD:\\Github\\MATH-Group\\MATH-302-HWs\\venv\\Lib\\site-packages\\pandas\\core\\ops\\array_ops.py:218\u001B[0m, in \u001B[0;36m_na_arithmetic_op\u001B[1;34m(left, right, op, is_cmp)\u001B[0m\n\u001B[0;32m    217\u001B[0m \u001B[38;5;28;01mtry\u001B[39;00m:\n\u001B[1;32m--> 218\u001B[0m     result \u001B[38;5;241m=\u001B[39m \u001B[43mfunc\u001B[49m\u001B[43m(\u001B[49m\u001B[43mleft\u001B[49m\u001B[43m,\u001B[49m\u001B[43m \u001B[49m\u001B[43mright\u001B[49m\u001B[43m)\u001B[49m\n\u001B[0;32m    219\u001B[0m \u001B[38;5;28;01mexcept\u001B[39;00m \u001B[38;5;167;01mTypeError\u001B[39;00m:\n",
      "File \u001B[1;32mD:\\Github\\MATH-Group\\MATH-302-HWs\\venv\\Lib\\site-packages\\pandas\\core\\computation\\expressions.py:242\u001B[0m, in \u001B[0;36mevaluate\u001B[1;34m(op, a, b, use_numexpr)\u001B[0m\n\u001B[0;32m    240\u001B[0m     \u001B[38;5;28;01mif\u001B[39;00m use_numexpr:\n\u001B[0;32m    241\u001B[0m         \u001B[38;5;66;03m# error: \"None\" not callable\u001B[39;00m\n\u001B[1;32m--> 242\u001B[0m         \u001B[38;5;28;01mreturn\u001B[39;00m \u001B[43m_evaluate\u001B[49m\u001B[43m(\u001B[49m\u001B[43mop\u001B[49m\u001B[43m,\u001B[49m\u001B[43m \u001B[49m\u001B[43mop_str\u001B[49m\u001B[43m,\u001B[49m\u001B[43m \u001B[49m\u001B[43ma\u001B[49m\u001B[43m,\u001B[49m\u001B[43m \u001B[49m\u001B[43mb\u001B[49m\u001B[43m)\u001B[49m  \u001B[38;5;66;03m# type: ignore[misc]\u001B[39;00m\n\u001B[0;32m    243\u001B[0m \u001B[38;5;28;01mreturn\u001B[39;00m _evaluate_standard(op, op_str, a, b)\n",
      "File \u001B[1;32mD:\\Github\\MATH-Group\\MATH-302-HWs\\venv\\Lib\\site-packages\\pandas\\core\\computation\\expressions.py:73\u001B[0m, in \u001B[0;36m_evaluate_standard\u001B[1;34m(op, op_str, a, b)\u001B[0m\n\u001B[0;32m     72\u001B[0m     _store_test_result(\u001B[38;5;28;01mFalse\u001B[39;00m)\n\u001B[1;32m---> 73\u001B[0m \u001B[38;5;28;01mreturn\u001B[39;00m \u001B[43mop\u001B[49m\u001B[43m(\u001B[49m\u001B[43ma\u001B[49m\u001B[43m,\u001B[49m\u001B[43m \u001B[49m\u001B[43mb\u001B[49m\u001B[43m)\u001B[49m\n",
      "\u001B[1;31mTypeError\u001B[0m: unsupported operand type(s) for -: 'str' and 'str'",
      "\nDuring handling of the above exception, another exception occurred:\n",
      "\u001B[1;31mTypeError\u001B[0m                                 Traceback (most recent call last)",
      "Cell \u001B[1;32mIn[17], line 14\u001B[0m\n\u001B[0;32m     11\u001B[0m \u001B[38;5;66;03m# Subtract the background row from all rows, including itself\u001B[39;00m\n\u001B[0;32m     12\u001B[0m \u001B[38;5;66;03m# If you want to keep the background row unchanged, use df.iloc[1:] in the loop instead\u001B[39;00m\n\u001B[0;32m     13\u001B[0m \u001B[38;5;28;01mfor\u001B[39;00m index, row \u001B[38;5;129;01min\u001B[39;00m df\u001B[38;5;241m.\u001B[39miterrows():\n\u001B[1;32m---> 14\u001B[0m     df\u001B[38;5;241m.\u001B[39miloc[index] \u001B[38;5;241m=\u001B[39m \u001B[43mrow\u001B[49m\u001B[43m \u001B[49m\u001B[38;5;241;43m-\u001B[39;49m\u001B[43m \u001B[49m\u001B[43mbackground_row\u001B[49m\n\u001B[0;32m     16\u001B[0m \u001B[38;5;66;03m# If you don't want the first row to be the subtracted background row itself, you can start from the second row like this:\u001B[39;00m\n\u001B[0;32m     17\u001B[0m \u001B[38;5;66;03m# df = df.iloc[1:].subtract(background_row, axis='columns')\u001B[39;00m\n\u001B[0;32m     18\u001B[0m \n\u001B[0;32m     19\u001B[0m \u001B[38;5;66;03m# Write the processed DataFrame to a new Excel file\u001B[39;00m\n\u001B[0;32m     20\u001B[0m df\u001B[38;5;241m.\u001B[39mto_excel(output_file, index\u001B[38;5;241m=\u001B[39m\u001B[38;5;28;01mFalse\u001B[39;00m)\n",
      "File \u001B[1;32mD:\\Github\\MATH-Group\\MATH-302-HWs\\venv\\Lib\\site-packages\\pandas\\core\\ops\\common.py:76\u001B[0m, in \u001B[0;36m_unpack_zerodim_and_defer.<locals>.new_method\u001B[1;34m(self, other)\u001B[0m\n\u001B[0;32m     72\u001B[0m             \u001B[38;5;28;01mreturn\u001B[39;00m \u001B[38;5;28mNotImplemented\u001B[39m\n\u001B[0;32m     74\u001B[0m other \u001B[38;5;241m=\u001B[39m item_from_zerodim(other)\n\u001B[1;32m---> 76\u001B[0m \u001B[38;5;28;01mreturn\u001B[39;00m \u001B[43mmethod\u001B[49m\u001B[43m(\u001B[49m\u001B[38;5;28;43mself\u001B[39;49m\u001B[43m,\u001B[49m\u001B[43m \u001B[49m\u001B[43mother\u001B[49m\u001B[43m)\u001B[49m\n",
      "File \u001B[1;32mD:\\Github\\MATH-Group\\MATH-302-HWs\\venv\\Lib\\site-packages\\pandas\\core\\arraylike.py:194\u001B[0m, in \u001B[0;36mOpsMixin.__sub__\u001B[1;34m(self, other)\u001B[0m\n\u001B[0;32m    192\u001B[0m \u001B[38;5;129m@unpack_zerodim_and_defer\u001B[39m(\u001B[38;5;124m\"\u001B[39m\u001B[38;5;124m__sub__\u001B[39m\u001B[38;5;124m\"\u001B[39m)\n\u001B[0;32m    193\u001B[0m \u001B[38;5;28;01mdef\u001B[39;00m \u001B[38;5;21m__sub__\u001B[39m(\u001B[38;5;28mself\u001B[39m, other):\n\u001B[1;32m--> 194\u001B[0m     \u001B[38;5;28;01mreturn\u001B[39;00m \u001B[38;5;28;43mself\u001B[39;49m\u001B[38;5;241;43m.\u001B[39;49m\u001B[43m_arith_method\u001B[49m\u001B[43m(\u001B[49m\u001B[43mother\u001B[49m\u001B[43m,\u001B[49m\u001B[43m \u001B[49m\u001B[43moperator\u001B[49m\u001B[38;5;241;43m.\u001B[39;49m\u001B[43msub\u001B[49m\u001B[43m)\u001B[49m\n",
      "File \u001B[1;32mD:\\Github\\MATH-Group\\MATH-302-HWs\\venv\\Lib\\site-packages\\pandas\\core\\series.py:6126\u001B[0m, in \u001B[0;36mSeries._arith_method\u001B[1;34m(self, other, op)\u001B[0m\n\u001B[0;32m   6124\u001B[0m \u001B[38;5;28;01mdef\u001B[39;00m \u001B[38;5;21m_arith_method\u001B[39m(\u001B[38;5;28mself\u001B[39m, other, op):\n\u001B[0;32m   6125\u001B[0m     \u001B[38;5;28mself\u001B[39m, other \u001B[38;5;241m=\u001B[39m \u001B[38;5;28mself\u001B[39m\u001B[38;5;241m.\u001B[39m_align_for_op(other)\n\u001B[1;32m-> 6126\u001B[0m     \u001B[38;5;28;01mreturn\u001B[39;00m \u001B[43mbase\u001B[49m\u001B[38;5;241;43m.\u001B[39;49m\u001B[43mIndexOpsMixin\u001B[49m\u001B[38;5;241;43m.\u001B[39;49m\u001B[43m_arith_method\u001B[49m\u001B[43m(\u001B[49m\u001B[38;5;28;43mself\u001B[39;49m\u001B[43m,\u001B[49m\u001B[43m \u001B[49m\u001B[43mother\u001B[49m\u001B[43m,\u001B[49m\u001B[43m \u001B[49m\u001B[43mop\u001B[49m\u001B[43m)\u001B[49m\n",
      "File \u001B[1;32mD:\\Github\\MATH-Group\\MATH-302-HWs\\venv\\Lib\\site-packages\\pandas\\core\\base.py:1382\u001B[0m, in \u001B[0;36mIndexOpsMixin._arith_method\u001B[1;34m(self, other, op)\u001B[0m\n\u001B[0;32m   1379\u001B[0m     rvalues \u001B[38;5;241m=\u001B[39m np\u001B[38;5;241m.\u001B[39marange(rvalues\u001B[38;5;241m.\u001B[39mstart, rvalues\u001B[38;5;241m.\u001B[39mstop, rvalues\u001B[38;5;241m.\u001B[39mstep)\n\u001B[0;32m   1381\u001B[0m \u001B[38;5;28;01mwith\u001B[39;00m np\u001B[38;5;241m.\u001B[39merrstate(\u001B[38;5;28mall\u001B[39m\u001B[38;5;241m=\u001B[39m\u001B[38;5;124m\"\u001B[39m\u001B[38;5;124mignore\u001B[39m\u001B[38;5;124m\"\u001B[39m):\n\u001B[1;32m-> 1382\u001B[0m     result \u001B[38;5;241m=\u001B[39m \u001B[43mops\u001B[49m\u001B[38;5;241;43m.\u001B[39;49m\u001B[43marithmetic_op\u001B[49m\u001B[43m(\u001B[49m\u001B[43mlvalues\u001B[49m\u001B[43m,\u001B[49m\u001B[43m \u001B[49m\u001B[43mrvalues\u001B[49m\u001B[43m,\u001B[49m\u001B[43m \u001B[49m\u001B[43mop\u001B[49m\u001B[43m)\u001B[49m\n\u001B[0;32m   1384\u001B[0m \u001B[38;5;28;01mreturn\u001B[39;00m \u001B[38;5;28mself\u001B[39m\u001B[38;5;241m.\u001B[39m_construct_result(result, name\u001B[38;5;241m=\u001B[39mres_name)\n",
      "File \u001B[1;32mD:\\Github\\MATH-Group\\MATH-302-HWs\\venv\\Lib\\site-packages\\pandas\\core\\ops\\array_ops.py:283\u001B[0m, in \u001B[0;36marithmetic_op\u001B[1;34m(left, right, op)\u001B[0m\n\u001B[0;32m    279\u001B[0m     _bool_arith_check(op, left, right)  \u001B[38;5;66;03m# type: ignore[arg-type]\u001B[39;00m\n\u001B[0;32m    281\u001B[0m     \u001B[38;5;66;03m# error: Argument 1 to \"_na_arithmetic_op\" has incompatible type\u001B[39;00m\n\u001B[0;32m    282\u001B[0m     \u001B[38;5;66;03m# \"Union[ExtensionArray, ndarray[Any, Any]]\"; expected \"ndarray[Any, Any]\"\u001B[39;00m\n\u001B[1;32m--> 283\u001B[0m     res_values \u001B[38;5;241m=\u001B[39m \u001B[43m_na_arithmetic_op\u001B[49m\u001B[43m(\u001B[49m\u001B[43mleft\u001B[49m\u001B[43m,\u001B[49m\u001B[43m \u001B[49m\u001B[43mright\u001B[49m\u001B[43m,\u001B[49m\u001B[43m \u001B[49m\u001B[43mop\u001B[49m\u001B[43m)\u001B[49m  \u001B[38;5;66;03m# type: ignore[arg-type]\u001B[39;00m\n\u001B[0;32m    285\u001B[0m \u001B[38;5;28;01mreturn\u001B[39;00m res_values\n",
      "File \u001B[1;32mD:\\Github\\MATH-Group\\MATH-302-HWs\\venv\\Lib\\site-packages\\pandas\\core\\ops\\array_ops.py:227\u001B[0m, in \u001B[0;36m_na_arithmetic_op\u001B[1;34m(left, right, op, is_cmp)\u001B[0m\n\u001B[0;32m    219\u001B[0m \u001B[38;5;28;01mexcept\u001B[39;00m \u001B[38;5;167;01mTypeError\u001B[39;00m:\n\u001B[0;32m    220\u001B[0m     \u001B[38;5;28;01mif\u001B[39;00m \u001B[38;5;129;01mnot\u001B[39;00m is_cmp \u001B[38;5;129;01mand\u001B[39;00m (\n\u001B[0;32m    221\u001B[0m         left\u001B[38;5;241m.\u001B[39mdtype \u001B[38;5;241m==\u001B[39m \u001B[38;5;28mobject\u001B[39m \u001B[38;5;129;01mor\u001B[39;00m \u001B[38;5;28mgetattr\u001B[39m(right, \u001B[38;5;124m\"\u001B[39m\u001B[38;5;124mdtype\u001B[39m\u001B[38;5;124m\"\u001B[39m, \u001B[38;5;28;01mNone\u001B[39;00m) \u001B[38;5;241m==\u001B[39m \u001B[38;5;28mobject\u001B[39m\n\u001B[0;32m    222\u001B[0m     ):\n\u001B[1;32m   (...)\u001B[0m\n\u001B[0;32m    225\u001B[0m         \u001B[38;5;66;03m# Don't do this for comparisons, as that will handle complex numbers\u001B[39;00m\n\u001B[0;32m    226\u001B[0m         \u001B[38;5;66;03m#  incorrectly, see GH#32047\u001B[39;00m\n\u001B[1;32m--> 227\u001B[0m         result \u001B[38;5;241m=\u001B[39m \u001B[43m_masked_arith_op\u001B[49m\u001B[43m(\u001B[49m\u001B[43mleft\u001B[49m\u001B[43m,\u001B[49m\u001B[43m \u001B[49m\u001B[43mright\u001B[49m\u001B[43m,\u001B[49m\u001B[43m \u001B[49m\u001B[43mop\u001B[49m\u001B[43m)\u001B[49m\n\u001B[0;32m    228\u001B[0m     \u001B[38;5;28;01melse\u001B[39;00m:\n\u001B[0;32m    229\u001B[0m         \u001B[38;5;28;01mraise\u001B[39;00m\n",
      "File \u001B[1;32mD:\\Github\\MATH-Group\\MATH-302-HWs\\venv\\Lib\\site-packages\\pandas\\core\\ops\\array_ops.py:163\u001B[0m, in \u001B[0;36m_masked_arith_op\u001B[1;34m(x, y, op)\u001B[0m\n\u001B[0;32m    161\u001B[0m     \u001B[38;5;66;03m# See GH#5284, GH#5035, GH#19448 for historical reference\u001B[39;00m\n\u001B[0;32m    162\u001B[0m     \u001B[38;5;28;01mif\u001B[39;00m mask\u001B[38;5;241m.\u001B[39many():\n\u001B[1;32m--> 163\u001B[0m         result[mask] \u001B[38;5;241m=\u001B[39m \u001B[43mop\u001B[49m\u001B[43m(\u001B[49m\u001B[43mxrav\u001B[49m\u001B[43m[\u001B[49m\u001B[43mmask\u001B[49m\u001B[43m]\u001B[49m\u001B[43m,\u001B[49m\u001B[43m \u001B[49m\u001B[43myrav\u001B[49m\u001B[43m[\u001B[49m\u001B[43mmask\u001B[49m\u001B[43m]\u001B[49m\u001B[43m)\u001B[49m\n\u001B[0;32m    165\u001B[0m \u001B[38;5;28;01melse\u001B[39;00m:\n\u001B[0;32m    166\u001B[0m     \u001B[38;5;28;01mif\u001B[39;00m \u001B[38;5;129;01mnot\u001B[39;00m is_scalar(y):\n",
      "\u001B[1;31mTypeError\u001B[0m: unsupported operand type(s) for -: 'str' and 'str'"
     ]
    }
   ],
   "execution_count": 17
  },
  {
   "metadata": {
    "ExecuteTime": {
     "end_time": "2024-04-05T01:53:12.692392Z",
     "start_time": "2024-04-05T01:53:11.359026Z"
    }
   },
   "cell_type": "code",
   "source": [
    "# Replace 'your_file.xlsx' with the path to your Excel file\n",
    "input_file = r'processed_file.xlsx'\n",
    "output_file = 'resumed_file.xlsx'\n",
    "\n",
    "# Read the Excel fileddddddddddddddddddd\n",
    "df = pd.read_excel(input_file)\n",
    "\n",
    "# Transpose the DataFrame\n",
    "transposed_df = df.T\n",
    "\n",
    "# Write the transposed DataFrame to a new Excel file\n",
    "# Note: You need to reset the index if you want to keep the row labels as the first column in the output file.\n",
    "transposed_df.reset_index().to_excel(output_file, index=False)"
   ],
   "id": "4db6b8820cb98001",
   "outputs": [],
   "execution_count": 18
  },
  {
   "metadata": {},
   "cell_type": "code",
   "source": "",
   "id": "959964e39d0e153c",
   "outputs": [],
   "execution_count": null
  }
 ],
 "metadata": {
  "kernelspec": {
   "display_name": "Python 3",
   "language": "python",
   "name": "python3"
  },
  "language_info": {
   "codemirror_mode": {
    "name": "ipython",
    "version": 2
   },
   "file_extension": ".py",
   "mimetype": "text/x-python",
   "name": "python",
   "nbconvert_exporter": "python",
   "pygments_lexer": "ipython2",
   "version": "2.7.6"
  }
 },
 "nbformat": 4,
 "nbformat_minor": 5
}
